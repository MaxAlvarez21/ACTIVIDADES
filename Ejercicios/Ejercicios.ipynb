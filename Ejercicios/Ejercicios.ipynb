{
 "cells": [
  {
   "cell_type": "markdown",
   "metadata": {},
   "source": [
    "## 1 Odd or even\n",
    "\n",
    "Welcome a user then ask them for a number between 1 and 1000.\n",
    "\n",
    "When the user gives you the number, you check if it's odd or even and then you print a message letting them know."
   ]
  },
  {
   "cell_type": "code",
   "execution_count": 57,
   "metadata": {},
   "outputs": [
    {
     "name": "stdout",
     "output_type": "stream",
     "text": [
      "El número es par\n"
     ]
    }
   ],
   "source": [
    "numero = int(input(\"Ingresa un número del 1 al 1000: \"))\n",
    "if numero % 2 == 0:\n",
    "    print(\"El número es par\")\n",
    "else:\n",
    "    print(\"El número es impar\")"
   ]
  },
  {
   "cell_type": "markdown",
   "metadata": {},
   "source": [
    "## 2 Mad libs game\n",
    "\n",
    "Ask the user for an input.\n",
    "\n",
    "This could be anything such as a name, an adjective, a pronoun or even an action. Once you get the input, you can rearrange it to build up your own story."
   ]
  },
  {
   "cell_type": "code",
   "execution_count": 46,
   "metadata": {},
   "outputs": [
    {
     "name": "stdout",
     "output_type": "stream",
     "text": [
      "------------------------------------------\n",
      "Be kind to your a - footed b\n",
      "For a duck may be somebody's c ,\n",
      "Be kind to your b in d\n",
      "Where the weather is always e .\n",
      "\n",
      "You may think that is this the f ,\n",
      "Well it is.\n",
      "------------------------------------------\n"
     ]
    }
   ],
   "source": [
    "\n",
    "# All the questions that the program asks the user\n",
    "noun = input(\"Choose a noun: \")\n",
    "p_noun = input(\"Choose a plural noun: \")\n",
    "noun2 = input(\"Choose a noun: \")\n",
    "place = input(\"Name a place: \")\n",
    "adjective = input(\"Choose an adjective (Describing word): \")\n",
    "noun3 = input(\"Choose a noun: \")\n",
    "\n",
    "# Displays the story based on the users input\n",
    "print (\"------------------------------------------\")\n",
    "print (\"Be kind to your\",noun,\"- footed\", p_noun)\n",
    "print (\"For a duck may be somebody's\", noun2,\",\")\n",
    "print (\"Be kind to your\",p_noun,\"in\",place)\n",
    "print (\"Where the weather is always\",adjective,\".\")\n",
    "print ()\n",
    "print (\"You may think that is this the\",noun3,\",\")\n",
    "print (\"Well it is.\")\n",
    "print (\"------------------------------------------\")\n"
   ]
  },
  {
   "cell_type": "markdown",
   "metadata": {},
   "source": [
    "## 3 Word count\n",
    "Ask the user what's on their mind. Then after the user responds, count the number of words in the sentence and print that as an output."
   ]
  },
  {
   "cell_type": "code",
   "execution_count": 47,
   "metadata": {},
   "outputs": [
    {
     "name": "stdout",
     "output_type": "stream",
     "text": [
      "the 9\n",
      "of 5\n",
      "to 5\n",
      "which 3\n",
      "them 3\n",
      "and 3\n",
      "when 1\n",
      "in 1\n",
      "course 1\n",
      "human 1\n"
     ]
    }
   ],
   "source": [
    "import csv\n",
    "import string\n",
    "\n",
    "translator = str.maketrans('', '', string.punctuation)\n",
    "\n",
    "word_count = {}\n",
    "text = open('documento.txt').read()\n",
    "\n",
    "words = text.split()\n",
    "for word in words:\n",
    "    word = word.translate(translator).lower()\n",
    "    count = word_count.get(word, 0)\n",
    "    count += 1\n",
    "    word_count[word] = count\n",
    "\n",
    "word_count_list = sorted(word_count, key=word_count.get, reverse=True)\n",
    "for word in word_count_list[:10]:\n",
    "    print(word, word_count[word])\n",
    "\n",
    "output_file = open('words.csv', 'w')\n",
    "writer = csv.writer(output_file)\n",
    "writer.writerow(['word', 'count'])\n",
    "for word in word_count_list:\n",
    "    writer.writerow([word, word_count[word]])"
   ]
  },
  {
   "cell_type": "markdown",
   "metadata": {},
   "source": [
    "## 4 Biography info\n",
    "Ask a user for their personal information one question at a time. Then check that the information they entered is valid. Finally, print a summary of all the information they entered back to them.\n",
    "\n",
    "Example: What is your name? If the user enters * you prompt them that the input is wrong, and ask them to enter a valid name."
   ]
  },
  {
   "cell_type": "code",
   "execution_count": 48,
   "metadata": {},
   "outputs": [
    {
     "name": "stdout",
     "output_type": "stream",
     "text": [
      "------------------------------------------\n",
      "Name:  max\n",
      "Date of birth:  oct  21, 2001\n",
      "Address:  aaa\n",
      "Personal goals:  aaa\n",
      "------------------------------------------\n"
     ]
    }
   ],
   "source": [
    "# All the questions that the program asks the user\n",
    "name = input(\"Name: \")\n",
    "birth = input(\"Birth: \")\n",
    "address = input(\"Address: \")\n",
    "personalGoals = input(\"Personal Goals: \")\n",
    "\n",
    "\n",
    "print (\"------------------------------------------\")\n",
    "print (\"Name: \",name)\n",
    "print (\"Date of birth: \", birth)\n",
    "print (\"Address: \",address)\n",
    "print (\"Personal goals: \", personalGoals)\n",
    "print (\"------------------------------------------\")"
   ]
  },
  {
   "cell_type": "markdown",
   "metadata": {},
   "source": [
    "## 5 What's my acronym?\n",
    "Ask the user to enter the full meaning of an organization or concept and you'll provide the acronym to the user. "
   ]
  },
  {
   "cell_type": "code",
   "execution_count": 49,
   "metadata": {},
   "outputs": [
    {
     "name": "stdout",
     "output_type": "stream",
     "text": [
      "MEAA\n"
     ]
    }
   ],
   "source": [
    "def fxn(stng): \n",
    "    oupt = stng[0] \n",
    "      \n",
    "    for i in range(1, len(stng)): \n",
    "        if stng[i-1] == ' ':    \n",
    "            oupt += stng[i] \n",
    "              \n",
    "    oupt = oupt.upper() \n",
    "    return oupt \n",
    "\n",
    "organization = input(\"Organization name: \")\n",
    "print(fxn(organization)) "
   ]
  },
  {
   "cell_type": "markdown",
   "metadata": {},
   "source": [
    "## 6 Rock, Paper, Scissors\n",
    "This is a popular game played between two people. Each player gets to form one of three shapes using their hand:\n",
    "\n",
    " - `rock (a closed fist)`  \n",
    " - `paper (a flat hand)`\n",
    " - `scissors (a fist with the index finger and middle finger extended, forming a V)`\n"
   ]
  },
  {
   "cell_type": "code",
   "execution_count": 50,
   "metadata": {},
   "outputs": [
    {
     "name": "stdout",
     "output_type": "stream",
     "text": [
      "\n",
      "You chose rock, computer chose paper.\n",
      "\n",
      "Paper covers rock! You lose.\n"
     ]
    }
   ],
   "source": [
    "import random\n",
    "\n",
    "user_action = input(\"Enter a choice (rock, paper, scissors): \")\n",
    "possible_actions = [\"rock\", \"paper\", \"scissors\"]\n",
    "computer_action = random.choice(possible_actions)\n",
    "print(f\"\\nYou chose {user_action}, computer chose {computer_action}.\\n\")\n",
    "\n",
    "if user_action == computer_action:\n",
    "    print(f\"Both players selected {user_action}. It's a tie!\")\n",
    "elif user_action == \"rock\":\n",
    "    if computer_action == \"scissors\":\n",
    "        print(\"Rock smashes scissors! You win!\")\n",
    "    else:\n",
    "        print(\"Paper covers rock! You lose.\")\n",
    "elif user_action == \"paper\":\n",
    "    if computer_action == \"rock\":\n",
    "        print(\"Paper covers rock! You win!\")\n",
    "    else:\n",
    "        print(\"Scissors cuts paper! You lose.\")\n",
    "elif user_action == \"scissors\":\n",
    "    if computer_action == \"paper\":\n",
    "        print(\"Scissors cuts paper! You win!\")\n",
    "    else:\n",
    "        print(\"Rock smashes scissors! You lose.\")"
   ]
  },
  {
   "cell_type": "markdown",
   "metadata": {},
   "source": [
    "## 7 Guess the number\n",
    "You ask a user to guess a number between 1 and 50.\n",
    "\n",
    "If they guess outside that range, you prompt with an error encouraging them to choose a number within the proper range.\n",
    "\n",
    "Whenever they guess the wrong number you ask if they want to keep playing or if they'd like to quit.\n",
    "\n",
    "Finally, when the user eventually guesses the right number you congratulate them and show the number of attempts they had."
   ]
  },
  {
   "cell_type": "code",
   "execution_count": 51,
   "metadata": {},
   "outputs": [
    {
     "name": "stdout",
     "output_type": "stream",
     "text": [
      "No le atinaste\n",
      "No le atinaste\n",
      "No le atinaste\n",
      "9\n"
     ]
    }
   ],
   "source": [
    "import random\n",
    "randNumber = random.randint(1,50)\n",
    "\n",
    "choise = \"Y\"\n",
    "\n",
    "while choise == \"Y\" or choise == \"y\":\n",
    "    number = int(input(\"Try to guess the number between 1 and 50: \"))\n",
    "    \n",
    "    while number > 50 or number < 0:\n",
    "        number = int(input(\"Try to guess the number between 1 and 50: \"))\n",
    "        print (\"Choose number between 1 and 50\")\n",
    "\n",
    "    if number == randNumber:\n",
    "        print(\"Le atinaste\")\n",
    "        choise = \"N\"\n",
    "    else:\n",
    "        print(\"No le atinaste\")\n",
    "        choise = input(\"Wanna try again?: Y or N\")\n",
    "\n",
    "print (randNumber)"
   ]
  },
  {
   "cell_type": "markdown",
   "metadata": {},
   "source": [
    "## 8 Is a palindrome\n",
    "Ask the user to give you five words. Then check if any of the five words is a palindrome.\n",
    "\n",
    "A palindrome is a word that remains the same whether it's read forward or backward."
   ]
  },
  {
   "cell_type": "code",
   "execution_count": 52,
   "metadata": {},
   "outputs": [
    {
     "name": "stdout",
     "output_type": "stream",
     "text": [
      "\n",
      "Palindrome checker\n",
      "lavadora\n",
      "The text you have entered is not a palindrome.\n"
     ]
    }
   ],
   "source": [
    "def convertInputString():\n",
    "    rawInput = input(\"\\nPlease enter a word, phrase, or a sentence \\nto check if it is a palindrome: \") \n",
    "    rawString = rawInput.lower() \n",
    "    rawList = list(rawString) \n",
    "    print(rawInput)\n",
    "    return rawList\n",
    "\n",
    "def stripAnalphabetics(dirtyList): \n",
    "    analphabeticList = [\" \", \"-\", \".\", \",\", \":\", \";\", \"!\", \"?\", \"'\", \"\\\"\"] \n",
    "    for character in analphabeticList: \n",
    "        if character in dirtyList: \n",
    "            dirtyList.remove(character) \n",
    "            return stripAnalphabetics(dirtyList)\n",
    "    return dirtyList \n",
    "\n",
    "def runPalindromeCheck(straightList):\n",
    "    reversedList = straightList[::-1] \n",
    "    if reversedList == straightList: \n",
    "        return \"The text you have entered is a palindrome!\" \n",
    "    else: \n",
    "        return \"The text you have entered is not a palindrome.\" \n",
    "\n",
    "def main(): \n",
    "    print(\"\\nPalindrome checker\") \n",
    "    originalList = convertInputString()  \n",
    "    originalList = stripAnalphabetics(originalList) \n",
    "    palindromeCheck = runPalindromeCheck(originalList)\n",
    "    print(palindromeCheck)\n",
    "\n",
    "main() "
   ]
  },
  {
   "cell_type": "markdown",
   "metadata": {},
   "source": [
    "## 9 Calculate the tip\n",
    "Your goal is to find out exactly how much tip you should give after receiving a service. In this scenario, ask for the total bill. Then display the tip for 18%, 20% and 25%."
   ]
  },
  {
   "cell_type": "code",
   "execution_count": 53,
   "metadata": {},
   "outputs": [
    {
     "name": "stdout",
     "output_type": "stream",
     "text": [
      "Propina del 18%:  81.0\n",
      "Propina del 20%:  90.0\n",
      "Propina del 25%:  112.5\n"
     ]
    }
   ],
   "source": [
    "total = int(input(\"Total de la cuenta: \"))\n",
    "print(\"Propina del 18%: \",(total*0.18))\n",
    "print(\"Propina del 20%: \",(total*0.20))\n",
    "print(\"Propina del 25%: \",(total*0.25))\n",
    "\n",
    "text = open('documento.txt').read()"
   ]
  },
  {
   "cell_type": "markdown",
   "metadata": {},
   "source": [
    "## 10 Email slicer\n",
    "Collect an email address from the user and then find out if the user has a custom domain name or a popular domain name."
   ]
  },
  {
   "cell_type": "code",
   "execution_count": 54,
   "metadata": {},
   "outputs": [
    {
     "name": "stdout",
     "output_type": "stream",
     "text": [
      "Your username is 'max' and your domain name is 'gmail.com'\n"
     ]
    }
   ],
   "source": [
    "\n",
    "# Get user email address\n",
    "email = input(\"What is your email address?: \").strip()\n",
    "\n",
    "# Slice out the user name\n",
    "user_name = email[:email.index(\"@\")]\n",
    "\n",
    "# Slice the domain name\n",
    "domain_name = email[email.index(\"@\")+1:]\n",
    "\n",
    "# Format message\n",
    "output = \"Your username is '{}' and your domain name is '{}'\".format(user_name,domain_name)\n",
    "\n",
    "# Display output message\n",
    "print(output)"
   ]
  },
  {
   "cell_type": "markdown",
   "metadata": {},
   "source": [
    "## 11 Lyrics generator\n",
    "Ask a user to choose from a list of 10 songs. When the user does, you print out the lyrics to the song they selected."
   ]
  },
  {
   "cell_type": "code",
   "execution_count": 56,
   "metadata": {},
   "outputs": [
    {
     "name": "stdout",
     "output_type": "stream",
     "text": [
      "Goosebumps - Travis Scott\n",
      "Skyline - Khalid\n",
      "Sapito - Rolon la neta\n",
      "\n",
      "------------------------------------------\n",
      "Te voy a enseÃ±ar\n",
      "que debes bailar\n",
      "como baila el sapito\n",
      "dando brinkitos\n",
      "tu debes buscar\n",
      "con quien brincaras\n",
      "y aunque tu estas tu solito tu debes brincar.\n",
      "Te voy a enseÃ±ar\n",
      "que debes bailar\n",
      "como baila el sapito\n",
      "dando brinkitos\n",
      "tu debes buscar\n",
      "con quien brincaras\n",
      "y aunque tu estas tu solito tu debes brincar.\n",
      "Vas para delante mas un poco mas\n",
      "vas para delante y luego mas patras\n",
      "ahora para un lador para al otro ya!\n",
      "das un brinco alto y vuelves a empezar.\n",
      "Te voy a enseÃ±ar\n",
      "que debes bailar\n",
      "como baila el sapito\n",
      "dando brinkitos\n",
      "tu debes buscar\n",
      "con quien brincaras\n",
      "y aunque tu estas tu solito tu debes brincar.\n",
      "Te voy a enseÃ±ar\n",
      "que debes bailar\n",
      "como baila el sapito\n",
      "dando brinkitos\n",
      "tu debes buscar\n",
      "con quien brincaras\n",
      "y aunque tu estas tu solito tu debes brincar.\n",
      "Te voy a enseÃ±ar\n",
      "que debes bailar\n",
      "como baila el sapito\n",
      "dando brinkitos\n",
      "tu debes buscar\n",
      "con quien brincaras\n",
      "y aunque tu estas tu solito tu debes brincar.\n",
      "Te voy a enseÃ±ar\n",
      "que debes bailar\n",
      "como baila el sapito\n",
      "dando brinkitos\n",
      "tu debes buscar\n",
      "con quien brincaras\n",
      "y aunque tu estas tu solito tu debes brincar.\n",
      "------------------------------------------\n"
     ]
    }
   ],
   "source": [
    "## Yo lo voy a hacer con 3 canciones\n",
    "\n",
    "print(\"Goosebumps - Travis Scott\")\n",
    "print(\"Skyline - Khalid\")\n",
    "print(\"Sapito - Rolon la neta\")\n",
    "print()\n",
    "\n",
    "cancion = int(input(\"Selecciona una de las cacniones de la lista (con 1, 2 o 3)\"))\n",
    "\n",
    "if cancion == 1:\n",
    "    text = open('goosebumps.txt').read()\n",
    "elif cancion == 2:\n",
    "    text = open('skyline.txt').read()\n",
    "else:\n",
    "    text = open('sapito.txt').read()\n",
    "print (\"------------------------------------------\")\n",
    "print(text)\n",
    "print (\"------------------------------------------\")"
   ]
  }
 ],
 "metadata": {
  "kernelspec": {
   "display_name": "Python 3.10.6 64-bit",
   "language": "python",
   "name": "python3"
  },
  "language_info": {
   "codemirror_mode": {
    "name": "ipython",
    "version": 3
   },
   "file_extension": ".py",
   "mimetype": "text/x-python",
   "name": "python",
   "nbconvert_exporter": "python",
   "pygments_lexer": "ipython3",
   "version": "3.10.6"
  },
  "orig_nbformat": 4,
  "vscode": {
   "interpreter": {
    "hash": "c149b962b7287ca1d42f29d68e98275e94ec766efb89e976fa0043efe01bb165"
   }
  }
 },
 "nbformat": 4,
 "nbformat_minor": 2
}
